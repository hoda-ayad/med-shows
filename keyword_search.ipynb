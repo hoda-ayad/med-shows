{
 "cells": [
  {
   "cell_type": "code",
   "execution_count": 22,
   "metadata": {},
   "outputs": [],
   "source": [
    "import pandas as pd\n",
    "import numpy as np\n",
    "import re\n",
    "\n",
    "%run preprocessor.ipynb"
   ]
  },
  {
   "cell_type": "code",
   "execution_count": 41,
   "metadata": {},
   "outputs": [],
   "source": [
    "def get_keywords(df, query):\n",
    "    # Create the regex pattern for the keywords\n",
    "    query_pattern = r'\\b(?:' + '|'.join(query) + r')\\b'\n",
    "    \n",
    "    # Function to extract excerpts\n",
    "    def extract_excerpts(script, pattern):\n",
    "        excerpts = []\n",
    "        for match in re.finditer(pattern, script, re.IGNORECASE):\n",
    "            start = max(match.start() - 100, 0)\n",
    "            end = match.end() + 100\n",
    "            excerpt = script[start:end]\n",
    "            excerpts.append(excerpt)\n",
    "        return excerpts\n",
    "    \n",
    "    # Apply the function to each row and create a new column 'excerpts'\n",
    "    df['excerpts'] = df['script'].apply(lambda x: extract_excerpts(x, query_pattern))\n",
    "    \n",
    "    # Filter rows where excerpts list is not empty\n",
    "    df = df[df['excerpts'].str.len() > 0]\n",
    "    \n",
    "    # Add the 'query' column to indicate rows where keywords were found\n",
    "    df['query'] = True\n",
    "    \n",
    "    return df"
   ]
  },
  {
   "cell_type": "code",
   "execution_count": 71,
   "metadata": {},
   "outputs": [],
   "source": [
    "def update_all_eps(df):    \n",
    "    all_episodes = pd.read_csv('./data/episodes.csv', index_col=0)\n",
    "    all_episodes = all_episodes.rename(columns={'ep_num': 'episode'})\n",
    "    merged_df = all_episodes.merge(df[['show_id', 'season', 'episode']], on=['show_id', 'season', 'episode'])\n",
    "    merged_df['abortion'] = True\n",
    "\n",
    "    all_episodes = all_episodes.merge(merged_df[['show_id', 'season', 'episode', 'abortion']], on=['show_id', 'season', 'episode'], how='left')\n",
    "    all_episodes.fillna(False, inplace=True)\n",
    "\n",
    "    return all_episodes"
   ]
  }
 ],
 "metadata": {
  "kernelspec": {
   "display_name": "Python 3",
   "language": "python",
   "name": "python3"
  },
  "language_info": {
   "codemirror_mode": {
    "name": "ipython",
    "version": 3
   },
   "file_extension": ".py",
   "mimetype": "text/x-python",
   "name": "python",
   "nbconvert_exporter": "python",
   "pygments_lexer": "ipython3",
   "version": "3.11.1"
  }
 },
 "nbformat": 4,
 "nbformat_minor": 2
}
