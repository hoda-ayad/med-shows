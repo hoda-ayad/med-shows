{
 "cells": [
  {
   "cell_type": "code",
   "execution_count": 22,
   "metadata": {},
   "outputs": [],
   "source": [
    "import pandas as pd\n",
    "import numpy as np\n",
    "import re\n",
    "\n",
    "%run preprocessor.ipynb"
   ]
  },
  {
   "cell_type": "code",
   "execution_count": 41,
   "metadata": {},
   "outputs": [],
   "source": [
    "def get_keywords(df, query):\n",
    "    # Create the regex pattern for the keywords\n",
    "    query_pattern = r'\\b(?:' + '|'.join(query) + r')\\b'\n",
    "    \n",
    "    # Function to extract excerpts\n",
    "    def extract_excerpts(script, pattern):\n",
    "        excerpts = []\n",
    "        for match in re.finditer(pattern, script, re.IGNORECASE):\n",
    "            start = max(match.start() - 100, 0)\n",
    "            end = match.end() + 100\n",
    "            excerpt = script[start:end]\n",
    "            excerpts.append(excerpt)\n",
    "        return excerpts\n",
    "    \n",
    "    # Apply the function to each row and create a new column 'excerpts'\n",
    "    df['excerpts'] = df['script'].apply(lambda x: extract_excerpts(x, query_pattern))\n",
    "    \n",
    "    # Filter rows where excerpts list is not empty\n",
    "    df = df[df['excerpts'].str.len() > 0]\n",
    "    \n",
    "    # Add the 'query' column to indicate rows where keywords were found\n",
    "    df['query'] = True\n",
    "    \n",
    "    return df"
   ]
  },
  {
   "cell_type": "code",
   "execution_count": 23,
   "metadata": {},
   "outputs": [],
   "source": [
    "er_df = pd.read_csv('./data/transcripts/er_transcripts.csv', index_col=0)\n",
    "\n",
    "er_df = clean_transcripts(er_df)"
   ]
  },
  {
   "cell_type": "code",
   "execution_count": 51,
   "metadata": {},
   "outputs": [
    {
     "name": "stderr",
     "output_type": "stream",
     "text": [
      "/var/folders/8b/76lk071d1dn3ck38wkf1wknw0000gn/T/ipykernel_22013/2477543652.py:22: SettingWithCopyWarning: \n",
      "A value is trying to be set on a copy of a slice from a DataFrame.\n",
      "Try using .loc[row_indexer,col_indexer] = value instead\n",
      "\n",
      "See the caveats in the documentation: https://pandas.pydata.org/pandas-docs/stable/user_guide/indexing.html#returning-a-view-versus-a-copy\n",
      "  df['query'] = True\n"
     ]
    }
   ],
   "source": [
    "abortion_keys = ['abortion', 'abort', 'abortifacient']\n",
    "\n",
    "er_abortion = get_keywords(er_df, abortion_keys)\n",
    "\n",
    "er_abortion = er_abortion.drop([83, 111, 215])"
   ]
  }
 ],
 "metadata": {
  "kernelspec": {
   "display_name": "Python 3",
   "language": "python",
   "name": "python3"
  },
  "language_info": {
   "codemirror_mode": {
    "name": "ipython",
    "version": 3
   },
   "file_extension": ".py",
   "mimetype": "text/x-python",
   "name": "python",
   "nbconvert_exporter": "python",
   "pygments_lexer": "ipython3",
   "version": "3.11.1"
  }
 },
 "nbformat": 4,
 "nbformat_minor": 2
}
