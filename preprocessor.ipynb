{
 "cells": [
  {
   "cell_type": "code",
   "execution_count": 1,
   "metadata": {},
   "outputs": [],
   "source": [
    "import pandas as pd\n",
    "import numpy as np\n",
    "import ast\n",
    "from pandas.core.common import flatten\n",
    "import re\n",
    "\n",
    "pd.set_option('display.max_columns', None)  # or 1000\n",
    "pd.set_option('display.max_rows', None)  # or 1000\n",
    "pd.set_option('display.max_colwidth', None)  # or 199"
   ]
  },
  {
   "cell_type": "code",
   "execution_count": 2,
   "metadata": {},
   "outputs": [],
   "source": [
    "def clean_transcripts(df):\n",
    "    df['script'] = [ast.literal_eval(script) for script in df['script']]\n",
    "    df['script'] = pd.Series([\" \\n \".join(script) for script in df['script']])\n",
    "    df['script'] = [script.replace(r'\\s[\\W]+\\s', '') for script in df['script']]\n",
    "\n",
    "    return df"
   ]
  },
  {
   "cell_type": "code",
   "execution_count": 3,
   "metadata": {},
   "outputs": [],
   "source": [
    "def get_censored_words(x):\n",
    "    test = [script.replace('*', '*111').lower() for script in x]\n",
    "\n",
    "    value_counts = pd.Series(list(flatten([re.findall(r'\\b\\w*(?:\\*111)+\\w*(?:(?:\\*111)+\\w*)*\\b', script) for script in test]))).value_counts()\n",
    "\n",
    "    value_counts.index = [ind.replace('*111', '*') for ind in value_counts.index ]\n",
    "\n",
    "    return value_counts"
   ]
  }
 ],
 "metadata": {
  "kernelspec": {
   "display_name": "Python 3",
   "language": "python",
   "name": "python3"
  },
  "language_info": {
   "codemirror_mode": {
    "name": "ipython",
    "version": 3
   },
   "file_extension": ".py",
   "mimetype": "text/x-python",
   "name": "python",
   "nbconvert_exporter": "python",
   "pygments_lexer": "ipython3",
   "version": "3.11.1"
  }
 },
 "nbformat": 4,
 "nbformat_minor": 2
}
