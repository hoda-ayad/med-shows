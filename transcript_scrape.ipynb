{
 "cells": [
  {
   "cell_type": "markdown",
   "metadata": {},
   "source": [
    "# Scraping Show Transcripts \n",
    "[ER](https://transcripts.foreverdreaming.org/viewforum.php?f=1035), [Scrubs](https://transcripts.foreverdreaming.org/viewforum.php?f=1027&sid=40edea8bd662f46aec12deaaca6c47ce), [House](https://clinic-duty.livejournal.com/12225.html), [Grey’s Anatomy](https://transcripts.foreverdreaming.org/viewforum.php?f=11), and [The Good Doctor](https://transcripts.foreverdreaming.org/viewforum.php?f=857)"
   ]
  },
  {
   "cell_type": "code",
   "execution_count": 18,
   "metadata": {},
   "outputs": [],
   "source": [
    "from bs4 import BeautifulSoup\n",
    "\n",
    "import requests\n",
    "import pandas as pd\n",
    "from IPython.display import clear_output\n",
    "from tqdm import tqdm"
   ]
  },
  {
   "cell_type": "code",
   "execution_count": 31,
   "metadata": {},
   "outputs": [],
   "source": [
    "show_id = 857\n",
    "int_show_id = 6470478\n",
    "num_eps = 80"
   ]
  },
  {
   "cell_type": "markdown",
   "metadata": {},
   "source": [
    "## Get Links"
   ]
  },
  {
   "cell_type": "code",
   "execution_count": 32,
   "metadata": {},
   "outputs": [
    {
     "name": "stdout",
     "output_type": "stream",
     "text": [
      "Currently pulled 78 tags\n",
      "Currently pulled 127 tags\n"
     ]
    }
   ],
   "source": [
    "a_tags = []\n",
    "n = 0\n",
    "while n < num_eps-1:\n",
    "    response = requests.get(\"https://transcripts.foreverdreaming.org/viewforum.php?f=\"+str(show_id)+\"&start=\"+str(n))\n",
    "    html_string = response.text\n",
    "    document = BeautifulSoup(html_string, \"html.parser\")\n",
    "    posts = document.find_all(\"div\", \"xbox-layout-forum\")[1]\n",
    "    a_tags = a_tags + posts.find_all(\"a\", \"topictitle\")\n",
    "    n = len(a_tags)\n",
    "    print(\"Currently pulled \"+str(n)+\" tags\")"
   ]
  },
  {
   "cell_type": "markdown",
   "metadata": {},
   "source": [
    "## Extract Scripts"
   ]
  },
  {
   "cell_type": "code",
   "execution_count": 21,
   "metadata": {},
   "outputs": [],
   "source": [
    "def extract_script(link):\n",
    "    response = requests.get(\"https://transcripts.foreverdreaming.org/\"+link[0:])\n",
    "    html_string = response.text\n",
    "    soup = BeautifulSoup(html_string, \"html.parser\")\n",
    "    script = soup.find_all('div', 'content')[0]\n",
    "    parsed_script = [string for string in script.stripped_strings]\n",
    "\n",
    "    return parsed_script"
   ]
  },
  {
   "cell_type": "code",
   "execution_count": 22,
   "metadata": {},
   "outputs": [],
   "source": [
    "def scrape_episodes(a_tags):\n",
    "    links = [tag.get(\"href\") for tag in a_tags]\n",
    "    seasons = [int(tag.string[:2]) for tag in a_tags]\n",
    "    episodes = [int(tag.string[3:5]) for tag in a_tags]\n",
    "    scripts = []\n",
    "    \n",
    "    for link in tqdm(links):\n",
    "        \n",
    "        scripts.append(extract_script(link))\n",
    "\n",
    "    dict = {\"show_id\": int_show_id, \"season\": seasons, \"episode\": episodes, \"script\": scripts}\n",
    "    return pd.DataFrame(dict)\n"
   ]
  },
  {
   "cell_type": "code",
   "execution_count": 33,
   "metadata": {},
   "outputs": [
    {
     "name": "stderr",
     "output_type": "stream",
     "text": [
      "100%|██████████| 127/127 [00:42<00:00,  3.00it/s]\n"
     ]
    }
   ],
   "source": [
    "df = scrape_episodes(a_tags)"
   ]
  },
  {
   "cell_type": "code",
   "execution_count": 34,
   "metadata": {},
   "outputs": [],
   "source": [
    "df.sort_values(by=['season', 'episode'], ignore_index=True, inplace=True)"
   ]
  },
  {
   "cell_type": "markdown",
   "metadata": {},
   "source": [
    "## Add Scripts to Database"
   ]
  },
  {
   "cell_type": "code",
   "execution_count": 35,
   "metadata": {},
   "outputs": [],
   "source": [
    "df.to_csv(\"./data/transcripts/good_doctor_transcripts.csv\")"
   ]
  },
  {
   "cell_type": "code",
   "execution_count": null,
   "metadata": {},
   "outputs": [],
   "source": []
  }
 ],
 "metadata": {
  "kernelspec": {
   "display_name": "Python 3",
   "language": "python",
   "name": "python3"
  },
  "language_info": {
   "codemirror_mode": {
    "name": "ipython",
    "version": 3
   },
   "file_extension": ".py",
   "mimetype": "text/x-python",
   "name": "python",
   "nbconvert_exporter": "python",
   "pygments_lexer": "ipython3",
   "version": "3.11.1"
  }
 },
 "nbformat": 4,
 "nbformat_minor": 2
}
